{
  "cells": [
    {
      "cell_type": "markdown",
      "metadata": {
        "id": "GYIVSS711Hur"
      },
      "source": [
        "# New Section"
      ]
    },
    {
      "cell_type": "markdown",
      "metadata": {
        "id": "E4omqpmx1ZAv"
      },
      "source": []
    },
    {
      "cell_type": "code",
      "execution_count": 1,
      "metadata": {
        "colab": {
          "base_uri": "https://localhost:8080/"
        },
        "id": "KADYDhGHgrPA",
        "outputId": "74c7a6e6-b85c-44c4-b8a4-c3de685b9ff7"
      },
      "outputs": [
        {
          "name": "stdout",
          "output_type": "stream",
          "text": [
            "Error fetching data: 451, {\n",
            "  \"code\": 0,\n",
            "  \"msg\": \"Service unavailable from a restricted location according to 'b. Eligibility' in https://www.binance.com/en/terms. Please contact customer service if you believe you received this message in error.\"\n",
            "}\n",
            "Empty DataFrame\n",
            "Columns: [timestamp, open, high, low, close, volume, close_time, quote_asset_volume, number_of_trades, taker_buy_base_asset_volume, taker_buy_quote_asset_volume, ignore]\n",
            "Index: []\n"
          ]
        }
      ],
      "source": [
        "import requests\n",
        "import pandas as pd\n",
        "import time\n",
        "\n",
        "def fetch_binance_data(symbol=\"BTCUSDT\", interval=\"1d\", start_year=2017):\n",
        "    base_url = \"https://api.binance.com/api/v3/klines\"\n",
        "    end_time = int(time.time() * 1000)  # Current time in milliseconds\n",
        "    start_time = int(time.mktime(time.strptime(f\"{start_year}-01-01\", \"%Y-%m-%d\"))) * 1000  # Start time in ms\n",
        "\n",
        "    all_data = []\n",
        "    limit = 1000  # Maximum rows per request\n",
        "\n",
        "    while start_time < end_time:\n",
        "        # Fetch data from Binance\n",
        "        params = {\n",
        "            \"symbol\": symbol,\n",
        "            \"interval\": interval,\n",
        "            \"startTime\": start_time,\n",
        "            \"limit\": limit,\n",
        "        }\n",
        "        response = requests.get(base_url, params=params)\n",
        "\n",
        "        if response.status_code == 200:\n",
        "            data = response.json()\n",
        "            if not data:\n",
        "                break\n",
        "            all_data.extend(data)\n",
        "\n",
        "            # Update the start_time to the last retrieved timestamp\n",
        "            start_time = data[-1][0] + 1\n",
        "        else:\n",
        "            print(f\"Error fetching data: {response.status_code}, {response.text}\")\n",
        "            break\n",
        "\n",
        "    # Convert data to a DataFrame\n",
        "    columns = [\n",
        "        \"timestamp\", \"open\", \"high\", \"low\", \"close\", \"volume\",\n",
        "        \"close_time\", \"quote_asset_volume\", \"number_of_trades\",\n",
        "        \"taker_buy_base_asset_volume\", \"taker_buy_quote_asset_volume\", \"ignore\"\n",
        "    ]\n",
        "    df = pd.DataFrame(all_data, columns=columns)\n",
        "\n",
        "    # Convert data types\n",
        "    df[\"timestamp\"] = pd.to_datetime(df[\"timestamp\"], unit=\"ms\")\n",
        "    numeric_columns = [\"open\", \"high\", \"low\", \"close\", \"volume\", \"quote_asset_volume\",\n",
        "                       \"number_of_trades\", \"taker_buy_base_asset_volume\", \"taker_buy_quote_asset_volume\"]\n",
        "    df[numeric_columns] = df[numeric_columns].astype(float)\n",
        "\n",
        "    return df\n",
        "\n",
        "# Fetch last 6 years of daily BTC-USD data\n",
        "df = fetch_binance_data(symbol=\"BTCUSDT\", interval=\"1d\", start_year=2017)\n",
        "\n",
        "# Display the DataFrame\n",
        "print(df.head())\n"
      ]
    },
    {
      "cell_type": "code",
      "execution_count": 2,
      "metadata": {
        "colab": {
          "base_uri": "https://localhost:8080/"
        },
        "id": "z92xwjxO-33j",
        "outputId": "5a29ad98-d525-47ba-bf5c-a14ba37000b1"
      },
      "outputs": [
        {
          "name": "stdout",
          "output_type": "stream",
          "text": [
            "      timestamp      open       high       low      close         volume  \\\n",
            "2665 2024-12-03  95840.61   96305.52  93578.17   95849.69   35827.322830   \n",
            "2666 2024-12-04  95849.69   99000.00  94587.83   98587.32   43850.537280   \n",
            "2667 2024-12-05  98587.32  104088.00  90500.00   96945.63  109921.729662   \n",
            "2668 2024-12-06  96945.63  101898.99  95981.72   99740.84   45049.533100   \n",
            "2669 2024-12-07  99740.84  100428.00  98844.00  100178.33   12426.733940   \n",
            "\n",
            "         close_time  quote_asset_volume  number_of_trades  \\\n",
            "2665  1733270399999        3.413996e+09         5361712.0   \n",
            "2666  1733356799999        4.241995e+09         6648724.0   \n",
            "2667  1733443199999        1.104800e+10        12012364.0   \n",
            "2668  1733529599999        4.456642e+09         6919102.0   \n",
            "2669  1733615999999        1.237353e+09         2136967.0   \n",
            "\n",
            "      taker_buy_base_asset_volume  taker_buy_quote_asset_volume ignore  \n",
            "2665                 17339.111670                  1.652091e+09      0  \n",
            "2666                 22033.601120                  2.132656e+09      0  \n",
            "2667                 56235.078356                  5.657171e+09      0  \n",
            "2668                 21999.624160                  2.175646e+09      0  \n",
            "2669                  5624.135320                  5.600733e+08      0  \n"
          ]
        }
      ],
      "source": [
        "print(df.tail())"
      ]
    },
    {
      "cell_type": "markdown",
      "metadata": {
        "id": "obFt3PreCTWT"
      },
      "source": []
    },
    {
      "cell_type": "code",
      "execution_count": 3,
      "metadata": {
        "colab": {
          "base_uri": "https://localhost:8080/"
        },
        "id": "c-NGEzfcApxX",
        "outputId": "a96821f4-c5aa-4449-eb2e-e63ad85f1c92"
      },
      "outputs": [
        {
          "name": "stdout",
          "output_type": "stream",
          "text": [
            "Dataset Shape: (2670, 12)\n"
          ]
        }
      ],
      "source": [
        "print('Dataset Shape:', df.shape)"
      ]
    },
    {
      "cell_type": "code",
      "execution_count": 4,
      "metadata": {
        "colab": {
          "base_uri": "https://localhost:8080/"
        },
        "id": "CoJ6RX79BK9j",
        "outputId": "122466c3-b2b6-4cdc-9052-6d8076163b63"
      },
      "outputs": [
        {
          "name": "stdout",
          "output_type": "stream",
          "text": [
            "Data Types: timestamp                       datetime64[ns]\n",
            "open                                   float64\n",
            "high                                   float64\n",
            "low                                    float64\n",
            "close                                  float64\n",
            "volume                                 float64\n",
            "close_time                               int64\n",
            "quote_asset_volume                     float64\n",
            "number_of_trades                       float64\n",
            "taker_buy_base_asset_volume            float64\n",
            "taker_buy_quote_asset_volume           float64\n",
            "ignore                                  object\n",
            "dtype: object\n"
          ]
        }
      ],
      "source": [
        "# Check the data types of each column\n",
        "print('Data Types:', df.dtypes)"
      ]
    },
    {
      "cell_type": "code",
      "execution_count": 5,
      "metadata": {
        "colab": {
          "base_uri": "https://localhost:8080/"
        },
        "id": "Vcpmubo2BAPC",
        "outputId": "d5ba94aa-c5b1-4359-90fb-a032daae4dc1"
      },
      "outputs": [
        {
          "name": "stdout",
          "output_type": "stream",
          "text": [
            "Summary Statistics:\n",
            "                 timestamp          open           high           low  \\\n",
            "count                 2670   2670.000000    2670.000000   2670.000000   \n",
            "mean   2021-04-12 12:00:00  26349.739423   26996.057685  25664.488169   \n",
            "min    2017-08-17 00:00:00   3188.010000    3276.500000   2817.000000   \n",
            "25%    2019-06-15 06:00:00   8479.265000    8731.195000   8154.750000   \n",
            "50%    2021-04-12 12:00:00  19955.825000   20376.820000  19413.110000   \n",
            "75%    2023-02-08 18:00:00  41484.745000   42423.052500  40420.955000   \n",
            "max    2024-12-07 00:00:00  99740.840000  104088.000000  98844.000000   \n",
            "std                    NaN  21038.140774   21521.266243  20559.787382   \n",
            "\n",
            "               close         volume    close_time  quote_asset_volume  \\\n",
            "count    2670.000000    2670.000000  2.670000e+03        2.670000e+03   \n",
            "mean    26385.718236   68448.992996  1.618315e+12        1.709345e+09   \n",
            "min      3189.020000     228.108068  1.503014e+12        9.778657e+05   \n",
            "25%      8491.550000   28380.832035  1.560665e+12        3.244764e+08   \n",
            "50%     19962.140000   43728.041290  1.618315e+12        9.781213e+08   \n",
            "75%     41492.982500   71745.288087  1.675966e+12        2.414636e+09   \n",
            "max    100178.330000  760705.362783  1.733616e+12        1.746531e+10   \n",
            "std     21082.276457   80389.364676  6.660641e+10        2.004499e+09   \n",
            "\n",
            "       number_of_trades  taker_buy_base_asset_volume  \\\n",
            "count      2.670000e+03                  2670.000000   \n",
            "mean       1.582005e+06                 34035.771143   \n",
            "min        2.153000e+03                    56.190141   \n",
            "25%        3.413660e+05                 14218.626660   \n",
            "50%        9.243465e+05                 21826.216280   \n",
            "75%        1.785280e+06                 35594.994710   \n",
            "max        1.522359e+07                374775.574085   \n",
            "std        2.022328e+06                 40000.017192   \n",
            "\n",
            "       taker_buy_quote_asset_volume  \n",
            "count                  2.670000e+03  \n",
            "mean                   8.470720e+08  \n",
            "min                    2.413638e+05  \n",
            "25%                    1.659816e+08  \n",
            "50%                    4.767346e+08  \n",
            "75%                    1.188047e+09  \n",
            "max                    8.783916e+09  \n",
            "std                    9.971534e+08  \n"
          ]
        }
      ],
      "source": [
        "# Summary statistics\n",
        "print('Summary Statistics:')\n",
        "print(df.describe())"
      ]
    },
    {
      "cell_type": "code",
      "execution_count": 6,
      "metadata": {
        "colab": {
          "base_uri": "https://localhost:8080/"
        },
        "id": "vgjhjNVSDwUl",
        "outputId": "76bbc740-6a51-4e64-d52f-1da3c6f223bc"
      },
      "outputs": [
        {
          "name": "stdout",
          "output_type": "stream",
          "text": [
            "Missing Values:\n",
            "timestamp                       0\n",
            "open                            0\n",
            "high                            0\n",
            "low                             0\n",
            "close                           0\n",
            "volume                          0\n",
            "close_time                      0\n",
            "quote_asset_volume              0\n",
            "number_of_trades                0\n",
            "taker_buy_base_asset_volume     0\n",
            "taker_buy_quote_asset_volume    0\n",
            "ignore                          0\n",
            "dtype: int64\n"
          ]
        }
      ],
      "source": [
        "# Check for missing values\n",
        "missing_values = df.isnull().sum()\n",
        "print('Missing Values:')\n",
        "print(missing_values)"
      ]
    },
    {
      "cell_type": "code",
      "execution_count": 7,
      "metadata": {
        "colab": {
          "base_uri": "https://localhost:8080/"
        },
        "id": "28FR5hlzhZtf",
        "outputId": "3169aa4d-ad70-44af-f82b-3518a16266a1"
      },
      "outputs": [
        {
          "name": "stdout",
          "output_type": "stream",
          "text": [
            "timestamp                       datetime64[ns]\n",
            "open                                   float64\n",
            "high                                   float64\n",
            "low                                    float64\n",
            "close                                  float64\n",
            "volume                                 float64\n",
            "close_time                               int64\n",
            "quote_asset_volume                     float64\n",
            "number_of_trades                       float64\n",
            "taker_buy_base_asset_volume            float64\n",
            "taker_buy_quote_asset_volume           float64\n",
            "ignore                                  object\n",
            "dtype: object\n"
          ]
        }
      ],
      "source": [
        "print(df.dtypes)\n"
      ]
    },
    {
      "cell_type": "code",
      "execution_count": 8,
      "metadata": {
        "colab": {
          "base_uri": "https://localhost:8080/"
        },
        "id": "pOLUoE9hhrVl",
        "outputId": "09f39b8b-098b-4222-d4bc-d9769d6165a1"
      },
      "outputs": [
        {
          "name": "stdout",
          "output_type": "stream",
          "text": [
            "               open     high      low    close       volume    close_time  \\\n",
            "timestamp                                                                   \n",
            "2017-08-17  4261.48  4485.39  4200.74  4285.08   795.150377  1.503014e+12   \n",
            "2017-08-18  4285.08  4371.52  3938.77  4108.37  1199.888264  1.503101e+12   \n",
            "2017-08-19  4108.37  4184.69  3850.00  4139.98   381.309763  1.503187e+12   \n",
            "2017-08-20  4120.98  4211.08  4032.62  4086.29   467.083022  1.503274e+12   \n",
            "2017-08-21  4069.13  4119.62  3911.79  4016.00   691.743060  1.503360e+12   \n",
            "\n",
            "            quote_asset_volume  number_of_trades  taker_buy_base_asset_volume  \\\n",
            "timestamp                                                                       \n",
            "2017-08-17        3.454770e+06            3427.0                   616.248541   \n",
            "2017-08-18        5.086958e+06            5233.0                   972.868710   \n",
            "2017-08-19        1.549484e+06            2153.0                   274.336042   \n",
            "2017-08-20        1.930364e+06            2321.0                   376.795947   \n",
            "2017-08-21        2.797232e+06            3972.0                   557.356107   \n",
            "\n",
            "            taker_buy_quote_asset_volume  \n",
            "timestamp                                 \n",
            "2017-08-17                  2.678216e+06  \n",
            "2017-08-18                  4.129123e+06  \n",
            "2017-08-19                  1.118002e+06  \n",
            "2017-08-20                  1.557401e+06  \n",
            "2017-08-21                  2.255663e+06  \n"
          ]
        },
        {
          "name": "stderr",
          "output_type": "stream",
          "text": [
            "<ipython-input-8-8542a26955a5>:11: FutureWarning: 'M' is deprecated and will be removed in a future version, please use 'ME' instead.\n",
            "  df_monthly = df_numeric.resample('M', on='timestamp').mean()\n",
            "<ipython-input-8-8542a26955a5>:14: FutureWarning: 'A-DEC' is deprecated and will be removed in a future version, please use 'YE-DEC' instead.\n",
            "  df_annual = df_numeric.resample('A-DEC', on='timestamp').mean()\n",
            "<ipython-input-8-8542a26955a5>:17: FutureWarning: 'Q-DEC' is deprecated and will be removed in a future version, please use 'QE-DEC' instead.\n",
            "  df_quarterly = df_numeric.resample('Q-DEC', on='timestamp').mean()\n"
          ]
        }
      ],
      "source": [
        "# Ensure 'timestamp' is in datetime format\n",
        "df['timestamp'] = pd.to_datetime(df['timestamp'])\n",
        "\n",
        "# Drop non-numeric columns (like 'ignore')\n",
        "df_numeric = df.drop(columns=['ignore'])\n",
        "\n",
        "# Resample to daily frequency\n",
        "df_daily = df_numeric.resample('D', on='timestamp').mean()\n",
        "\n",
        "# Resample to monthly frequency\n",
        "df_monthly = df_numeric.resample('M', on='timestamp').mean()\n",
        "\n",
        "# Resample to annual frequency\n",
        "df_annual = df_numeric.resample('A-DEC', on='timestamp').mean()\n",
        "\n",
        "# Resample to quarterly frequency\n",
        "df_quarterly = df_numeric.resample('Q-DEC', on='timestamp').mean()\n",
        "\n",
        "# Display results\n",
        "print(df_daily.head())\n"
      ]
    },
    {
      "cell_type": "code",
      "execution_count": 9,
      "metadata": {
        "id": "PGN8HdHDEFpO"
      },
      "outputs": [],
      "source": [
        "# Handling missing values in df_daily\n",
        "df_daily = df_daily.fillna(df_daily.mean())\n",
        "\n",
        "# Handling missing values in df_monthly\n",
        "df_monthly = df_monthly.fillna(df_monthly.mean())\n",
        "\n",
        "# Handling missing values in df_annual\n",
        "df_annual = df_annual.fillna(df_annual.mean())\n",
        "\n",
        "# Handling missing values in df_quarterly\n",
        "df_quarterly = df_quarterly.fillna(df_quarterly.mean())"
      ]
    },
    {
      "cell_type": "code",
      "execution_count": 10,
      "metadata": {
        "id": "zz5hfhe_EHYz"
      },
      "outputs": [],
      "source": [
        "# Calculate the daily percentage change in Bitcoin price\n",
        "df_daily['Price_Pct_Change'] = df_daily['close'].pct_change()\n",
        "\n",
        "# Calculate 3-month moving average for df_monthly\n",
        "df_monthly['Moving_Average_3M'] = df_monthly['close'].rolling(window=3).mean()\n",
        "\n",
        "# Calculate 6-month moving average for df_monthly\n",
        "df_monthly['Moving_Average_6M'] = df_monthly['close'].rolling(window=6).mean()\n",
        "\n",
        "# Calculate 12-month moving average for df_annual\n",
        "df_annual['Moving_Average_12M'] = df_annual['close'].rolling(window=12).mean()\n",
        "\n",
        "# Calculate 3-month rolling standard deviation for df_quarterly\n",
        "df_quarterly['Rolling_Std_3M'] = df_quarterly['close'].rolling(window=3).std()\n",
        "\n",
        "# Calculate 6-month rolling standard deviation for df_quarterly\n",
        "df_quarterly['Rolling_Std_6M'] = df_quarterly['close'].rolling(window=6).std()"
      ]
    },
    {
      "cell_type": "code",
      "execution_count": 11,
      "metadata": {
        "colab": {
          "base_uri": "https://localhost:8080/",
          "height": 206
        },
        "id": "_rPkh5BoEan4",
        "outputId": "e2da01e8-ad4e-45fa-dea7-3e70b7b90942"
      },
      "outputs": [
        {
          "data": {
            "application/vnd.google.colaboratory.intrinsic+json": {
              "summary": "{\n  \"name\": \"df\",\n  \"rows\": 5,\n  \"fields\": [\n    {\n      \"column\": \"timestamp\",\n      \"properties\": {\n        \"dtype\": \"date\",\n        \"min\": \"2024-12-03 00:00:00\",\n        \"max\": \"2024-12-07 00:00:00\",\n        \"num_unique_values\": 5,\n        \"samples\": [\n          \"2024-12-04 00:00:00\",\n          \"2024-12-07 00:00:00\",\n          \"2024-12-05 00:00:00\"\n        ],\n        \"semantic_type\": \"\",\n        \"description\": \"\"\n      }\n    },\n    {\n      \"column\": \"open\",\n      \"properties\": {\n        \"dtype\": \"number\",\n        \"std\": 1727.0359830848913,\n        \"min\": 95840.61,\n        \"max\": 99740.84,\n        \"num_unique_values\": 5,\n        \"samples\": [\n          95849.69,\n          99740.84,\n          98587.32\n        ],\n        \"semantic_type\": \"\",\n        \"description\": \"\"\n      }\n    },\n    {\n      \"column\": \"high\",\n      \"properties\": {\n        \"dtype\": \"number\",\n        \"std\": 2939.312953671316,\n        \"min\": 96305.52,\n        \"max\": 104088.0,\n        \"num_unique_values\": 5,\n        \"samples\": [\n          99000.0,\n          100428.0,\n          104088.0\n        ],\n        \"semantic_type\": \"\",\n        \"description\": \"\"\n      }\n    },\n    {\n      \"column\": \"low\",\n      \"properties\": {\n        \"dtype\": \"number\",\n        \"std\": 3071.099685150256,\n        \"min\": 90500.0,\n        \"max\": 98844.0,\n        \"num_unique_values\": 5,\n        \"samples\": [\n          94587.83,\n          98844.0,\n          90500.0\n        ],\n        \"semantic_type\": \"\",\n        \"description\": \"\"\n      }\n    },\n    {\n      \"column\": \"close\",\n      \"properties\": {\n        \"dtype\": \"number\",\n        \"std\": 1838.2857241653144,\n        \"min\": 95849.69,\n        \"max\": 100178.33,\n        \"num_unique_values\": 5,\n        \"samples\": [\n          98587.32,\n          100178.33,\n          96945.63\n        ],\n        \"semantic_type\": \"\",\n        \"description\": \"\"\n      }\n    },\n    {\n      \"column\": \"volume\",\n      \"properties\": {\n        \"dtype\": \"number\",\n        \"std\": 36276.16875395705,\n        \"min\": 12426.73394,\n        \"max\": 109921.729662,\n        \"num_unique_values\": 5,\n        \"samples\": [\n          43850.53728,\n          12426.73394,\n          109921.729662\n        ],\n        \"semantic_type\": \"\",\n        \"description\": \"\"\n      }\n    },\n    {\n      \"column\": \"close_time\",\n      \"properties\": {\n        \"dtype\": \"number\",\n        \"std\": 136610394,\n        \"min\": 1733270399999,\n        \"max\": 1733615999999,\n        \"num_unique_values\": 5,\n        \"samples\": [\n          1733356799999,\n          1733615999999,\n          1733443199999\n        ],\n        \"semantic_type\": \"\",\n        \"description\": \"\"\n      }\n    },\n    {\n      \"column\": \"quote_asset_volume\",\n      \"properties\": {\n        \"dtype\": \"number\",\n        \"std\": 3675887158.718426,\n        \"min\": 1237353459.1809652,\n        \"max\": 11048002942.149931,\n        \"num_unique_values\": 5,\n        \"samples\": [\n          4241994533.786106,\n          1237353459.1809652,\n          11048002942.149931\n        ],\n        \"semantic_type\": \"\",\n        \"description\": \"\"\n      }\n    },\n    {\n      \"column\": \"number_of_trades\",\n      \"properties\": {\n        \"dtype\": \"number\",\n        \"std\": 3565412.348147013,\n        \"min\": 2136967.0,\n        \"max\": 12012364.0,\n        \"num_unique_values\": 5,\n        \"samples\": [\n          6648724.0,\n          2136967.0,\n          12012364.0\n        ],\n        \"semantic_type\": \"\",\n        \"description\": \"\"\n      }\n    },\n    {\n      \"column\": \"taker_buy_base_asset_volume\",\n      \"properties\": {\n        \"dtype\": \"number\",\n        \"std\": 18887.295709462367,\n        \"min\": 5624.13532,\n        \"max\": 56235.078356,\n        \"num_unique_values\": 5,\n        \"samples\": [\n          22033.60112,\n          5624.13532,\n          56235.078356\n        ],\n        \"semantic_type\": \"\",\n        \"description\": \"\"\n      }\n    },\n    {\n      \"column\": \"taker_buy_quote_asset_volume\",\n      \"properties\": {\n        \"dtype\": \"number\",\n        \"std\": 1915030074.9074879,\n        \"min\": 560073267.5518417,\n        \"max\": 5657171374.763455,\n        \"num_unique_values\": 5,\n        \"samples\": [\n          2132655972.045,\n          560073267.5518417,\n          5657171374.763455\n        ],\n        \"semantic_type\": \"\",\n        \"description\": \"\"\n      }\n    },\n    {\n      \"column\": \"ignore\",\n      \"properties\": {\n        \"dtype\": \"category\",\n        \"num_unique_values\": 1,\n        \"samples\": [\n          \"0\"\n        ],\n        \"semantic_type\": \"\",\n        \"description\": \"\"\n      }\n    }\n  ]\n}",
              "type": "dataframe"
            },
            "text/html": [
              "\n",
              "  <div id=\"df-1bd2f671-8caf-407c-8561-2b340e357d46\" class=\"colab-df-container\">\n",
              "    <div>\n",
              "<style scoped>\n",
              "    .dataframe tbody tr th:only-of-type {\n",
              "        vertical-align: middle;\n",
              "    }\n",
              "\n",
              "    .dataframe tbody tr th {\n",
              "        vertical-align: top;\n",
              "    }\n",
              "\n",
              "    .dataframe thead th {\n",
              "        text-align: right;\n",
              "    }\n",
              "</style>\n",
              "<table border=\"1\" class=\"dataframe\">\n",
              "  <thead>\n",
              "    <tr style=\"text-align: right;\">\n",
              "      <th></th>\n",
              "      <th>timestamp</th>\n",
              "      <th>open</th>\n",
              "      <th>high</th>\n",
              "      <th>low</th>\n",
              "      <th>close</th>\n",
              "      <th>volume</th>\n",
              "      <th>close_time</th>\n",
              "      <th>quote_asset_volume</th>\n",
              "      <th>number_of_trades</th>\n",
              "      <th>taker_buy_base_asset_volume</th>\n",
              "      <th>taker_buy_quote_asset_volume</th>\n",
              "      <th>ignore</th>\n",
              "    </tr>\n",
              "  </thead>\n",
              "  <tbody>\n",
              "    <tr>\n",
              "      <th>2665</th>\n",
              "      <td>2024-12-03</td>\n",
              "      <td>95840.61</td>\n",
              "      <td>96305.52</td>\n",
              "      <td>93578.17</td>\n",
              "      <td>95849.69</td>\n",
              "      <td>35827.322830</td>\n",
              "      <td>1733270399999</td>\n",
              "      <td>3.413996e+09</td>\n",
              "      <td>5361712.0</td>\n",
              "      <td>17339.111670</td>\n",
              "      <td>1.652091e+09</td>\n",
              "      <td>0</td>\n",
              "    </tr>\n",
              "    <tr>\n",
              "      <th>2666</th>\n",
              "      <td>2024-12-04</td>\n",
              "      <td>95849.69</td>\n",
              "      <td>99000.00</td>\n",
              "      <td>94587.83</td>\n",
              "      <td>98587.32</td>\n",
              "      <td>43850.537280</td>\n",
              "      <td>1733356799999</td>\n",
              "      <td>4.241995e+09</td>\n",
              "      <td>6648724.0</td>\n",
              "      <td>22033.601120</td>\n",
              "      <td>2.132656e+09</td>\n",
              "      <td>0</td>\n",
              "    </tr>\n",
              "    <tr>\n",
              "      <th>2667</th>\n",
              "      <td>2024-12-05</td>\n",
              "      <td>98587.32</td>\n",
              "      <td>104088.00</td>\n",
              "      <td>90500.00</td>\n",
              "      <td>96945.63</td>\n",
              "      <td>109921.729662</td>\n",
              "      <td>1733443199999</td>\n",
              "      <td>1.104800e+10</td>\n",
              "      <td>12012364.0</td>\n",
              "      <td>56235.078356</td>\n",
              "      <td>5.657171e+09</td>\n",
              "      <td>0</td>\n",
              "    </tr>\n",
              "    <tr>\n",
              "      <th>2668</th>\n",
              "      <td>2024-12-06</td>\n",
              "      <td>96945.63</td>\n",
              "      <td>101898.99</td>\n",
              "      <td>95981.72</td>\n",
              "      <td>99740.84</td>\n",
              "      <td>45049.533100</td>\n",
              "      <td>1733529599999</td>\n",
              "      <td>4.456642e+09</td>\n",
              "      <td>6919102.0</td>\n",
              "      <td>21999.624160</td>\n",
              "      <td>2.175646e+09</td>\n",
              "      <td>0</td>\n",
              "    </tr>\n",
              "    <tr>\n",
              "      <th>2669</th>\n",
              "      <td>2024-12-07</td>\n",
              "      <td>99740.84</td>\n",
              "      <td>100428.00</td>\n",
              "      <td>98844.00</td>\n",
              "      <td>100178.33</td>\n",
              "      <td>12426.733940</td>\n",
              "      <td>1733615999999</td>\n",
              "      <td>1.237353e+09</td>\n",
              "      <td>2136967.0</td>\n",
              "      <td>5624.135320</td>\n",
              "      <td>5.600733e+08</td>\n",
              "      <td>0</td>\n",
              "    </tr>\n",
              "  </tbody>\n",
              "</table>\n",
              "</div>\n",
              "    <div class=\"colab-df-buttons\">\n",
              "\n",
              "  <div class=\"colab-df-container\">\n",
              "    <button class=\"colab-df-convert\" onclick=\"convertToInteractive('df-1bd2f671-8caf-407c-8561-2b340e357d46')\"\n",
              "            title=\"Convert this dataframe to an interactive table.\"\n",
              "            style=\"display:none;\">\n",
              "\n",
              "  <svg xmlns=\"http://www.w3.org/2000/svg\" height=\"24px\" viewBox=\"0 -960 960 960\">\n",
              "    <path d=\"M120-120v-720h720v720H120Zm60-500h600v-160H180v160Zm220 220h160v-160H400v160Zm0 220h160v-160H400v160ZM180-400h160v-160H180v160Zm440 0h160v-160H620v160ZM180-180h160v-160H180v160Zm440 0h160v-160H620v160Z\"/>\n",
              "  </svg>\n",
              "    </button>\n",
              "\n",
              "  <style>\n",
              "    .colab-df-container {\n",
              "      display:flex;\n",
              "      gap: 12px;\n",
              "    }\n",
              "\n",
              "    .colab-df-convert {\n",
              "      background-color: #E8F0FE;\n",
              "      border: none;\n",
              "      border-radius: 50%;\n",
              "      cursor: pointer;\n",
              "      display: none;\n",
              "      fill: #1967D2;\n",
              "      height: 32px;\n",
              "      padding: 0 0 0 0;\n",
              "      width: 32px;\n",
              "    }\n",
              "\n",
              "    .colab-df-convert:hover {\n",
              "      background-color: #E2EBFA;\n",
              "      box-shadow: 0px 1px 2px rgba(60, 64, 67, 0.3), 0px 1px 3px 1px rgba(60, 64, 67, 0.15);\n",
              "      fill: #174EA6;\n",
              "    }\n",
              "\n",
              "    .colab-df-buttons div {\n",
              "      margin-bottom: 4px;\n",
              "    }\n",
              "\n",
              "    [theme=dark] .colab-df-convert {\n",
              "      background-color: #3B4455;\n",
              "      fill: #D2E3FC;\n",
              "    }\n",
              "\n",
              "    [theme=dark] .colab-df-convert:hover {\n",
              "      background-color: #434B5C;\n",
              "      box-shadow: 0px 1px 3px 1px rgba(0, 0, 0, 0.15);\n",
              "      filter: drop-shadow(0px 1px 2px rgba(0, 0, 0, 0.3));\n",
              "      fill: #FFFFFF;\n",
              "    }\n",
              "  </style>\n",
              "\n",
              "    <script>\n",
              "      const buttonEl =\n",
              "        document.querySelector('#df-1bd2f671-8caf-407c-8561-2b340e357d46 button.colab-df-convert');\n",
              "      buttonEl.style.display =\n",
              "        google.colab.kernel.accessAllowed ? 'block' : 'none';\n",
              "\n",
              "      async function convertToInteractive(key) {\n",
              "        const element = document.querySelector('#df-1bd2f671-8caf-407c-8561-2b340e357d46');\n",
              "        const dataTable =\n",
              "          await google.colab.kernel.invokeFunction('convertToInteractive',\n",
              "                                                    [key], {});\n",
              "        if (!dataTable) return;\n",
              "\n",
              "        const docLinkHtml = 'Like what you see? Visit the ' +\n",
              "          '<a target=\"_blank\" href=https://colab.research.google.com/notebooks/data_table.ipynb>data table notebook</a>'\n",
              "          + ' to learn more about interactive tables.';\n",
              "        element.innerHTML = '';\n",
              "        dataTable['output_type'] = 'display_data';\n",
              "        await google.colab.output.renderOutput(dataTable, element);\n",
              "        const docLink = document.createElement('div');\n",
              "        docLink.innerHTML = docLinkHtml;\n",
              "        element.appendChild(docLink);\n",
              "      }\n",
              "    </script>\n",
              "  </div>\n",
              "\n",
              "\n",
              "<div id=\"df-c456099a-daae-41dd-9926-2fe24f243a97\">\n",
              "  <button class=\"colab-df-quickchart\" onclick=\"quickchart('df-c456099a-daae-41dd-9926-2fe24f243a97')\"\n",
              "            title=\"Suggest charts\"\n",
              "            style=\"display:none;\">\n",
              "\n",
              "<svg xmlns=\"http://www.w3.org/2000/svg\" height=\"24px\"viewBox=\"0 0 24 24\"\n",
              "     width=\"24px\">\n",
              "    <g>\n",
              "        <path d=\"M19 3H5c-1.1 0-2 .9-2 2v14c0 1.1.9 2 2 2h14c1.1 0 2-.9 2-2V5c0-1.1-.9-2-2-2zM9 17H7v-7h2v7zm4 0h-2V7h2v10zm4 0h-2v-4h2v4z\"/>\n",
              "    </g>\n",
              "</svg>\n",
              "  </button>\n",
              "\n",
              "<style>\n",
              "  .colab-df-quickchart {\n",
              "      --bg-color: #E8F0FE;\n",
              "      --fill-color: #1967D2;\n",
              "      --hover-bg-color: #E2EBFA;\n",
              "      --hover-fill-color: #174EA6;\n",
              "      --disabled-fill-color: #AAA;\n",
              "      --disabled-bg-color: #DDD;\n",
              "  }\n",
              "\n",
              "  [theme=dark] .colab-df-quickchart {\n",
              "      --bg-color: #3B4455;\n",
              "      --fill-color: #D2E3FC;\n",
              "      --hover-bg-color: #434B5C;\n",
              "      --hover-fill-color: #FFFFFF;\n",
              "      --disabled-bg-color: #3B4455;\n",
              "      --disabled-fill-color: #666;\n",
              "  }\n",
              "\n",
              "  .colab-df-quickchart {\n",
              "    background-color: var(--bg-color);\n",
              "    border: none;\n",
              "    border-radius: 50%;\n",
              "    cursor: pointer;\n",
              "    display: none;\n",
              "    fill: var(--fill-color);\n",
              "    height: 32px;\n",
              "    padding: 0;\n",
              "    width: 32px;\n",
              "  }\n",
              "\n",
              "  .colab-df-quickchart:hover {\n",
              "    background-color: var(--hover-bg-color);\n",
              "    box-shadow: 0 1px 2px rgba(60, 64, 67, 0.3), 0 1px 3px 1px rgba(60, 64, 67, 0.15);\n",
              "    fill: var(--button-hover-fill-color);\n",
              "  }\n",
              "\n",
              "  .colab-df-quickchart-complete:disabled,\n",
              "  .colab-df-quickchart-complete:disabled:hover {\n",
              "    background-color: var(--disabled-bg-color);\n",
              "    fill: var(--disabled-fill-color);\n",
              "    box-shadow: none;\n",
              "  }\n",
              "\n",
              "  .colab-df-spinner {\n",
              "    border: 2px solid var(--fill-color);\n",
              "    border-color: transparent;\n",
              "    border-bottom-color: var(--fill-color);\n",
              "    animation:\n",
              "      spin 1s steps(1) infinite;\n",
              "  }\n",
              "\n",
              "  @keyframes spin {\n",
              "    0% {\n",
              "      border-color: transparent;\n",
              "      border-bottom-color: var(--fill-color);\n",
              "      border-left-color: var(--fill-color);\n",
              "    }\n",
              "    20% {\n",
              "      border-color: transparent;\n",
              "      border-left-color: var(--fill-color);\n",
              "      border-top-color: var(--fill-color);\n",
              "    }\n",
              "    30% {\n",
              "      border-color: transparent;\n",
              "      border-left-color: var(--fill-color);\n",
              "      border-top-color: var(--fill-color);\n",
              "      border-right-color: var(--fill-color);\n",
              "    }\n",
              "    40% {\n",
              "      border-color: transparent;\n",
              "      border-right-color: var(--fill-color);\n",
              "      border-top-color: var(--fill-color);\n",
              "    }\n",
              "    60% {\n",
              "      border-color: transparent;\n",
              "      border-right-color: var(--fill-color);\n",
              "    }\n",
              "    80% {\n",
              "      border-color: transparent;\n",
              "      border-right-color: var(--fill-color);\n",
              "      border-bottom-color: var(--fill-color);\n",
              "    }\n",
              "    90% {\n",
              "      border-color: transparent;\n",
              "      border-bottom-color: var(--fill-color);\n",
              "    }\n",
              "  }\n",
              "</style>\n",
              "\n",
              "  <script>\n",
              "    async function quickchart(key) {\n",
              "      const quickchartButtonEl =\n",
              "        document.querySelector('#' + key + ' button');\n",
              "      quickchartButtonEl.disabled = true;  // To prevent multiple clicks.\n",
              "      quickchartButtonEl.classList.add('colab-df-spinner');\n",
              "      try {\n",
              "        const charts = await google.colab.kernel.invokeFunction(\n",
              "            'suggestCharts', [key], {});\n",
              "      } catch (error) {\n",
              "        console.error('Error during call to suggestCharts:', error);\n",
              "      }\n",
              "      quickchartButtonEl.classList.remove('colab-df-spinner');\n",
              "      quickchartButtonEl.classList.add('colab-df-quickchart-complete');\n",
              "    }\n",
              "    (() => {\n",
              "      let quickchartButtonEl =\n",
              "        document.querySelector('#df-c456099a-daae-41dd-9926-2fe24f243a97 button');\n",
              "      quickchartButtonEl.style.display =\n",
              "        google.colab.kernel.accessAllowed ? 'block' : 'none';\n",
              "    })();\n",
              "  </script>\n",
              "</div>\n",
              "\n",
              "    </div>\n",
              "  </div>\n"
            ],
            "text/plain": [
              "      timestamp      open       high       low      close         volume  \\\n",
              "2665 2024-12-03  95840.61   96305.52  93578.17   95849.69   35827.322830   \n",
              "2666 2024-12-04  95849.69   99000.00  94587.83   98587.32   43850.537280   \n",
              "2667 2024-12-05  98587.32  104088.00  90500.00   96945.63  109921.729662   \n",
              "2668 2024-12-06  96945.63  101898.99  95981.72   99740.84   45049.533100   \n",
              "2669 2024-12-07  99740.84  100428.00  98844.00  100178.33   12426.733940   \n",
              "\n",
              "         close_time  quote_asset_volume  number_of_trades  \\\n",
              "2665  1733270399999        3.413996e+09         5361712.0   \n",
              "2666  1733356799999        4.241995e+09         6648724.0   \n",
              "2667  1733443199999        1.104800e+10        12012364.0   \n",
              "2668  1733529599999        4.456642e+09         6919102.0   \n",
              "2669  1733615999999        1.237353e+09         2136967.0   \n",
              "\n",
              "      taker_buy_base_asset_volume  taker_buy_quote_asset_volume ignore  \n",
              "2665                 17339.111670                  1.652091e+09      0  \n",
              "2666                 22033.601120                  2.132656e+09      0  \n",
              "2667                 56235.078356                  5.657171e+09      0  \n",
              "2668                 21999.624160                  2.175646e+09      0  \n",
              "2669                  5624.135320                  5.600733e+08      0  "
            ]
          },
          "execution_count": 11,
          "metadata": {},
          "output_type": "execute_result"
        }
      ],
      "source": [
        "df.tail()"
      ]
    },
    {
      "cell_type": "code",
      "execution_count": 12,
      "metadata": {
        "colab": {
          "base_uri": "https://localhost:8080/",
          "height": 508
        },
        "id": "B21NAralEoEY",
        "outputId": "4fb1b132-443c-4003-a96a-3c102b77f9cc"
      },
      "outputs": [
        {
          "data": {
            "image/png": "[encoded data removed]",
            "text/plain": [
              "<Figure size 1000x500 with 1 Axes>"
            ]
          },
          "metadata": {},
          "output_type": "display_data"
        }
      ],
      "source": [
        "import matplotlib.pyplot as plt\n",
        "\n",
        "# Convert Unix time to datetime\n",
        "# df['Timestamp'] = pd.to_datetime(df['Timestamp'], unit='s')\n",
        "\n",
        "# Set the Timestamp column as the index\n",
        "df.set_index('timestamp', inplace=True)\n",
        "\n",
        "# Plot 1: Line chart of Bitcoin closing prices over time\n",
        "plt.figure(figsize=(10, 5))\n",
        "plt.plot(df.index, df['close'])\n",
        "plt.title('Bitcoin Closing Prices over Time')\n",
        "plt.xlabel('Time')\n",
        "plt.ylabel('Closing Price')\n",
        "plt.xticks(rotation=45)\n",
        "plt.grid(True)\n",
        "plt.show()"
      ]
    },
    {
      "cell_type": "code",
      "execution_count": 13,
      "metadata": {
        "colab": {
          "base_uri": "https://localhost:8080/",
          "height": 508
        },
        "id": "3Zbyx2FPFBsX",
        "outputId": "cc8820e4-02cc-44f8-9460-58c65abac568"
      },
      "outputs": [
        {
          "data": {
            "image/png": "[encoded data removed]",
            "text/plain": [
              "<Figure size 1000x500 with 1 Axes>"
            ]
          },
          "metadata": {},
          "output_type": "display_data"
        }
      ],
      "source": [
        "# Plot 2: Candlestick chart of Bitcoin prices\n",
        "plt.figure(figsize=(10, 5))\n",
        "plt.plot(df.index, df['open'], color='green', label='Open')\n",
        "plt.plot(df.index, df['close'], color='red', label='Close')\n",
        "plt.plot(df.index, df['high'], color='blue', label='High')\n",
        "plt.plot(df.index, df['low'], color='orange', label='Low')\n",
        "plt.title('Bitcoin Candlestick Chart')\n",
        "plt.xlabel('Time')\n",
        "plt.ylabel('Price')\n",
        "plt.xticks(rotation=45)\n",
        "plt.legend()\n",
        "plt.grid(True)\n",
        "plt.show()"
      ]
    },
    {
      "cell_type": "markdown",
      "metadata": {
        "id": "tdv-S0fNRIzd"
      },
      "source": [
        "Model Selection"
      ]
    },
    {
      "cell_type": "code",
      "execution_count": 14,
      "metadata": {
        "id": "j1WBVRoDRMKC"
      },
      "outputs": [],
      "source": [
        "from statsmodels.tsa.arima.model import ARIMA\n",
        "from statsmodels.tsa.statespace.sarimax import SARIMAX\n",
        "from sklearn.preprocessing import MinMaxScaler\n",
        "from sklearn.ensemble import GradientBoostingRegressor\n",
        "from sklearn.metrics import mean_squared_error\n",
        "from tensorflow.keras.models import Sequential\n",
        "from tensorflow.keras.layers import LSTM, Dense"
      ]
    },
    {
      "cell_type": "code",
      "execution_count": 15,
      "metadata": {
        "id": "7Uiu0zfE6u1-"
      },
      "outputs": [],
      "source": [
        "from prophet import Prophet\n",
        "import numpy as np"
      ]
    },
    {
      "cell_type": "code",
      "execution_count": 16,
      "metadata": {
        "colab": {
          "base_uri": "https://localhost:8080/",
          "height": 780
        },
        "id": "ESWxt3vlRO-_",
        "outputId": "6e6030dd-f311-4c7a-d75b-d0ad950d80ee"
      },
      "outputs": [
        {
          "name": "stderr",
          "output_type": "stream",
          "text": [
            "INFO:prophet:Disabling daily seasonality. Run prophet with daily_seasonality=True to override this.\n",
            "DEBUG:cmdstanpy:input tempfile: /tmp/tmp690y58b6/yf8b2yvr.json\n",
            "DEBUG:cmdstanpy:input tempfile: /tmp/tmp690y58b6/lno1h4aw.json\n",
            "DEBUG:cmdstanpy:idx 0\n",
            "DEBUG:cmdstanpy:running CmdStan, num_threads: None\n",
            "DEBUG:cmdstanpy:CmdStan args: ['/usr/local/lib/python3.10/dist-packages/prophet/stan_model/prophet_model.bin', 'random', 'seed=35289', 'data', 'file=/tmp/tmp690y58b6/yf8b2yvr.json', 'init=/tmp/tmp690y58b6/lno1h4aw.json', 'output', 'file=/tmp/tmp690y58b6/prophet_modelpe9jl08r/prophet_model-20241207190209.csv', 'method=optimize', 'algorithm=lbfgs', 'iter=10000']\n",
            "19:02:09 - cmdstanpy - INFO - Chain [1] start processing\n",
            "INFO:cmdstanpy:Chain [1] start processing\n",
            "19:02:10 - cmdstanpy - INFO - Chain [1] done processing\n",
            "INFO:cmdstanpy:Chain [1] done processing\n"
          ]
        },
        {
          "name": "stdout",
          "output_type": "stream",
          "text": [
            "Prophet RMSE: 45578.60204348734\n"
          ]
        },
        {
          "data": {
            "image/png": "[encoded data removed]",
            "text/plain": [
              "<Figure size 1200x600 with 1 Axes>"
            ]
          },
          "metadata": {},
          "output_type": "display_data"
        }
      ],
      "source": [
        "# Prepare data for Prophet\n",
        "prophet_data = df_daily[['close']].reset_index()  # Reset index to access datetime\n",
        "prophet_data.columns = ['ds', 'y']  # Rename columns for Prophet\n",
        "\n",
        "# Train-test split for Prophet\n",
        "train_size = int(len(prophet_data) * 0.8)\n",
        "prophet_train = prophet_data[:train_size]\n",
        "prophet_test = prophet_data[train_size:]\n",
        "\n",
        "# Initialize and train Prophet model\n",
        "prophet_model = Prophet()\n",
        "prophet_model.fit(prophet_train)\n",
        "\n",
        "# Create future DataFrame for predictions\n",
        "future = prophet_model.make_future_dataframe(periods=len(prophet_test), freq='D')\n",
        "\n",
        "# Generate predictions\n",
        "prophet_forecast = prophet_model.predict(future)\n",
        "\n",
        "# Extract predictions for the test period\n",
        "prophet_predictions = prophet_forecast[['ds', 'yhat']].iloc[-len(prophet_test):]\n",
        "\n",
        "# Calculate RMSE for Prophet\n",
        "prophet_rmse = np.sqrt(mean_squared_error(prophet_test['y'], prophet_predictions['yhat']))\n",
        "print(f\"Prophet RMSE: {prophet_rmse}\")\n",
        "\n",
        "# Visualize predictions vs actuals\n",
        "import matplotlib.pyplot as plt\n",
        "plt.figure(figsize=(12, 6))\n",
        "plt.plot(prophet_test['ds'], prophet_test['y'], label='Actual')\n",
        "plt.plot(prophet_predictions['ds'], prophet_predictions['yhat'], label='Prophet Predictions', linestyle='dashed')\n",
        "plt.title('Prophet Predictions vs Actual Values')\n",
        "plt.xlabel('Date')\n",
        "plt.ylabel('Bitcoin Close Price')\n",
        "plt.legend()\n",
        "plt.grid(True)\n",
        "plt.show()\n"
      ]
    },
    {
      "cell_type": "markdown",
      "metadata": {
        "id": "rrzEVr88LEEq"
      },
      "source": [
        "Scaled data for other models"
      ]
    },
    {
      "cell_type": "code",
      "execution_count": 17,
      "metadata": {
        "colab": {
          "base_uri": "https://localhost:8080/"
        },
        "id": "vMB4CcSeRPur",
        "outputId": "6f8d1109-cca9-48da-a73b-60f1e265c820"
      },
      "outputs": [
        {
          "name": "stdout",
          "output_type": "stream",
          "text": [
            "Train Data Shape: (2136, 11)\n",
            "Test Data Shape: (534, 11)\n"
          ]
        }
      ],
      "source": [
        "# Split data into train and test sets\n",
        "train_size = int(len(df_daily) * 0.8)\n",
        "train_data, test_data = df_daily[:train_size], df_daily[train_size:]\n",
        "print(f\"Train Data Shape: {train_data.shape}\")\n",
        "print(f\"Test Data Shape: {test_data.shape}\")"
      ]
    },
    {
      "cell_type": "code",
      "execution_count": 18,
      "metadata": {
        "colab": {
          "base_uri": "https://localhost:8080/"
        },
        "id": "8vlsH6qxCuq5",
        "outputId": "0a7ce4dd-e995-4b2b-b168-041df60b0d40"
      },
      "outputs": [
        {
          "name": "stdout",
          "output_type": "stream",
          "text": [
            "                open      high       low     close        volume  \\\n",
            "timestamp                                                          \n",
            "2023-06-18  26516.99  26700.00  26255.85  26339.97   21538.31022   \n",
            "2023-06-19  26339.98  27068.09  26256.61  26844.35   35872.65974   \n",
            "2023-06-20  26844.35  28402.74  26652.00  28307.99   69666.95525   \n",
            "2023-06-21  28308.00  30800.00  28257.99  29993.89  108926.40412   \n",
            "2023-06-22  29993.89  30500.00  29525.61  29884.92   59054.56460   \n",
            "\n",
            "              close_time  quote_asset_volume  number_of_trades  \\\n",
            "timestamp                                                        \n",
            "2023-06-18  1.687133e+12        5.710130e+08          555956.0   \n",
            "2023-06-19  1.687219e+12        9.541940e+08          732735.0   \n",
            "2023-06-20  1.687306e+12        1.912798e+09         1189024.0   \n",
            "2023-06-21  1.687392e+12        3.210301e+09         1872873.0   \n",
            "2023-06-22  1.687478e+12        1.775822e+09         1146092.0   \n",
            "\n",
            "            taker_buy_base_asset_volume  taker_buy_quote_asset_volume  \\\n",
            "timestamp                                                               \n",
            "2023-06-18                  10367.07533                  2.748642e+08   \n",
            "2023-06-19                  17593.19977                  4.681282e+08   \n",
            "2023-06-20                  35052.57462                  9.627829e+08   \n",
            "2023-06-21                  55846.96952                  1.646165e+09   \n",
            "2023-06-22                  27902.93312                  8.392843e+08   \n",
            "\n",
            "            Price_Pct_Change  \n",
            "timestamp                     \n",
            "2023-06-18         -0.006676  \n",
            "2023-06-19          0.019149  \n",
            "2023-06-20          0.054523  \n",
            "2023-06-21          0.059556  \n",
            "2023-06-22         -0.003633  \n"
          ]
        }
      ],
      "source": [
        "# Confirm the data range used for training\n",
        "print(train_data.tail())  # Should match the latest rows of your full dataset\n",
        "\n",
        "\n"
      ]
    },
    {
      "cell_type": "code",
      "execution_count": 19,
      "metadata": {
        "id": "CHlIyvgWDIrx"
      },
      "outputs": [],
      "source": [
        "# Fetch recent data (example with Binance API)\n",
        "recent_data = fetch_binance_data(symbol=\"BTCUSDT\", interval=\"1d\", start_year=2023)\n",
        "\n",
        "# Append the new data to the training dataset\n",
        "train_data = pd.concat([train_data, recent_data]).drop_duplicates()\n",
        "\n"
      ]
    },
    {
      "cell_type": "code",
      "execution_count": 20,
      "metadata": {
        "colab": {
          "base_uri": "https://localhost:8080/"
        },
        "id": "VY2ElGmuRYCH",
        "outputId": "32486016-c1ab-457b-f205-332d42b1c31e"
      },
      "outputs": [
        {
          "name": "stderr",
          "output_type": "stream",
          "text": [
            "/usr/local/lib/python3.10/dist-packages/statsmodels/tsa/base/tsa_model.py:473: ValueWarning: A date index has been provided, but it has no associated frequency information and so will be ignored when e.g. forecasting.\n",
            "  self._init_dates(dates, freq)\n",
            "/usr/local/lib/python3.10/dist-packages/statsmodels/tsa/base/tsa_model.py:473: ValueWarning: A date index has been provided, but it is not monotonic and so will be ignored when e.g. forecasting.\n",
            "  self._init_dates(dates, freq)\n",
            "/usr/local/lib/python3.10/dist-packages/statsmodels/tsa/base/tsa_model.py:473: ValueWarning: A date index has been provided, but it has no associated frequency information and so will be ignored when e.g. forecasting.\n",
            "  self._init_dates(dates, freq)\n",
            "/usr/local/lib/python3.10/dist-packages/statsmodels/tsa/base/tsa_model.py:473: ValueWarning: A date index has been provided, but it is not monotonic and so will be ignored when e.g. forecasting.\n",
            "  self._init_dates(dates, freq)\n",
            "/usr/local/lib/python3.10/dist-packages/statsmodels/tsa/base/tsa_model.py:473: ValueWarning: A date index has been provided, but it has no associated frequency information and so will be ignored when e.g. forecasting.\n",
            "  self._init_dates(dates, freq)\n",
            "/usr/local/lib/python3.10/dist-packages/statsmodels/tsa/base/tsa_model.py:473: ValueWarning: A date index has been provided, but it is not monotonic and so will be ignored when e.g. forecasting.\n",
            "  self._init_dates(dates, freq)\n",
            "/usr/local/lib/python3.10/dist-packages/statsmodels/tsa/base/tsa_model.py:837: ValueWarning: No supported index is available. Prediction results will be given with an integer index beginning at `start`.\n",
            "  return get_prediction_index(\n",
            "/usr/local/lib/python3.10/dist-packages/statsmodels/tsa/base/tsa_model.py:837: FutureWarning: No supported index is available. In the next version, calling this method in a model without a supported index will result in an exception.\n",
            "  return get_prediction_index(\n"
          ]
        }
      ],
      "source": [
        "# ARIMA model\n",
        "arima_model = ARIMA(train_data['close'], order=(1, 1, 1))\n",
        "arima_model_fit = arima_model.fit()\n",
        "arima_predictions = arima_model_fit.predict(start=len(train_data), end=len(train_data) + len(test_data) - 1)"
      ]
    },
    {
      "cell_type": "code",
      "execution_count": 21,
      "metadata": {
        "colab": {
          "base_uri": "https://localhost:8080/"
        },
        "id": "WdMjnRLRRihK",
        "outputId": "338fa701-de54-4e3e-d46e-e419852b679d"
      },
      "outputs": [
        {
          "name": "stderr",
          "output_type": "stream",
          "text": [
            "/usr/local/lib/python3.10/dist-packages/statsmodels/tsa/base/tsa_model.py:473: ValueWarning: A date index has been provided, but it has no associated frequency information and so will be ignored when e.g. forecasting.\n",
            "  self._init_dates(dates, freq)\n",
            "/usr/local/lib/python3.10/dist-packages/statsmodels/tsa/base/tsa_model.py:473: ValueWarning: A date index has been provided, but it is not monotonic and so will be ignored when e.g. forecasting.\n",
            "  self._init_dates(dates, freq)\n",
            "/usr/local/lib/python3.10/dist-packages/statsmodels/tsa/base/tsa_model.py:473: ValueWarning: A date index has been provided, but it has no associated frequency information and so will be ignored when e.g. forecasting.\n",
            "  self._init_dates(dates, freq)\n",
            "/usr/local/lib/python3.10/dist-packages/statsmodels/tsa/base/tsa_model.py:473: ValueWarning: A date index has been provided, but it is not monotonic and so will be ignored when e.g. forecasting.\n",
            "  self._init_dates(dates, freq)\n",
            "/usr/local/lib/python3.10/dist-packages/statsmodels/tsa/base/tsa_model.py:837: ValueWarning: No supported index is available. Prediction results will be given with an integer index beginning at `start`.\n",
            "  return get_prediction_index(\n",
            "/usr/local/lib/python3.10/dist-packages/statsmodels/tsa/base/tsa_model.py:837: FutureWarning: No supported index is available. In the next version, calling this method in a model without a supported index will result in an exception.\n",
            "  return get_prediction_index(\n"
          ]
        }
      ],
      "source": [
        "# SARIMA model\n",
        "sarima_model = SARIMAX(train_data['close'], order=(1, 1, 1), seasonal_order=(0, 1, 1, 12))\n",
        "sarima_model_fit = sarima_model.fit()\n",
        "sarima_predictions = sarima_model_fit.predict(start=len(train_data), end=len(train_data) + len(test_data) - 1)"
      ]
    },
    {
      "cell_type": "code",
      "execution_count": 22,
      "metadata": {
        "id": "01ouzt1kTpGM"
      },
      "outputs": [],
      "source": [
        "# Gradient Boosting Regressor model\n",
        "gbr_model = GradientBoostingRegressor()\n",
        "gbr_model.fit(np.arange(len(train_data)).reshape(-1, 1), train_data['close'])\n",
        "gbr_predictions = gbr_model.predict(np.arange(len(train_data), len(train_data) + len(test_data)).reshape(-1, 1))"
      ]
    },
    {
      "cell_type": "code",
      "execution_count": 23,
      "metadata": {
        "colab": {
          "base_uri": "https://localhost:8080/"
        },
        "id": "mYbzBr48PnEN",
        "outputId": "d2bd3836-9cca-4441-ebe1-4577921eb31e"
      },
      "outputs": [
        {
          "name": "stdout",
          "output_type": "stream",
          "text": [
            "open                                   float64\n",
            "high                                   float64\n",
            "low                                    float64\n",
            "close                                  float64\n",
            "volume                                 float64\n",
            "close_time                             float64\n",
            "quote_asset_volume                     float64\n",
            "number_of_trades                       float64\n",
            "taker_buy_base_asset_volume            float64\n",
            "taker_buy_quote_asset_volume           float64\n",
            "Price_Pct_Change                       float64\n",
            "timestamp                       datetime64[ns]\n",
            "ignore                                  object\n",
            "dtype: object\n"
          ]
        }
      ],
      "source": [
        "print(train_data.dtypes)"
      ]
    },
    {
      "cell_type": "code",
      "execution_count": 24,
      "metadata": {
        "colab": {
          "base_uri": "https://localhost:8080/"
        },
        "id": "ec6C4oSGK_DE",
        "outputId": "8d27b27c-511d-4f10-85c8-d0089c6959b3"
      },
      "outputs": [
        {
          "name": "stdout",
          "output_type": "stream",
          "text": [
            "Epoch 1/10\n"
          ]
        },
        {
          "name": "stderr",
          "output_type": "stream",
          "text": [
            "/usr/local/lib/python3.10/dist-packages/keras/src/layers/rnn/rnn.py:204: UserWarning: Do not pass an `input_shape`/`input_dim` argument to a layer. When using Sequential models, prefer using an `Input(shape)` object as the first layer in the model instead.\n",
            "  super().__init__(**kwargs)\n"
          ]
        },
        {
          "name": "stdout",
          "output_type": "stream",
          "text": [
            "\u001b[1m2135/2135\u001b[0m \u001b[32m━━━━━━━━━━━━━━━━━━━━\u001b[0m\u001b[37m\u001b[0m \u001b[1m21s\u001b[0m 9ms/step - loss: 231449460424185776963584.0000\n",
            "Epoch 2/10\n",
            "\u001b[1m2135/2135\u001b[0m \u001b[32m━━━━━━━━━━━━━━━━━━━━\u001b[0m\u001b[37m\u001b[0m \u001b[1m17s\u001b[0m 8ms/step - loss: 232151175289325628686336.0000\n",
            "Epoch 3/10\n",
            "\u001b[1m2135/2135\u001b[0m \u001b[32m━━━━━━━━━━━━━━━━━━━━\u001b[0m\u001b[37m\u001b[0m \u001b[1m20s\u001b[0m 9ms/step - loss: 231495793457152164626432.0000\n",
            "Epoch 4/10\n",
            "\u001b[1m2135/2135\u001b[0m \u001b[32m━━━━━━━━━━━━━━━━━━━━\u001b[0m\u001b[37m\u001b[0m \u001b[1m17s\u001b[0m 8ms/step - loss: 231708633575541694267392.0000\n",
            "Epoch 5/10\n",
            "\u001b[1m2135/2135\u001b[0m \u001b[32m━━━━━━━━━━━━━━━━━━━━\u001b[0m\u001b[37m\u001b[0m \u001b[1m21s\u001b[0m 8ms/step - loss: 231991423603343542452224.0000\n",
            "Epoch 6/10\n",
            "\u001b[1m2135/2135\u001b[0m \u001b[32m━━━━━━━━━━━━━━━━━━━━\u001b[0m\u001b[37m\u001b[0m \u001b[1m21s\u001b[0m 8ms/step - loss: 232251227258647291625472.0000\n",
            "Epoch 7/10\n",
            "\u001b[1m2135/2135\u001b[0m \u001b[32m━━━━━━━━━━━━━━━━━━━━\u001b[0m\u001b[37m\u001b[0m \u001b[1m20s\u001b[0m 8ms/step - loss: 231796111494703738781696.0000\n",
            "Epoch 8/10\n",
            "\u001b[1m2135/2135\u001b[0m \u001b[32m━━━━━━━━━━━━━━━━━━━━\u001b[0m\u001b[37m\u001b[0m \u001b[1m21s\u001b[0m 8ms/step - loss: 231944658224812927221760.0000\n",
            "Epoch 9/10\n",
            "\u001b[1m2135/2135\u001b[0m \u001b[32m━━━━━━━━━━━━━━━━━━━━\u001b[0m\u001b[37m\u001b[0m \u001b[1m17s\u001b[0m 8ms/step - loss: 231587883062332636528640.0000\n",
            "Epoch 10/10\n",
            "\u001b[1m2135/2135\u001b[0m \u001b[32m━━━━━━━━━━━━━━━━━━━━\u001b[0m\u001b[37m\u001b[0m \u001b[1m17s\u001b[0m 8ms/step - loss: 231524778624353921138688.0000\n",
            "\u001b[1m17/17\u001b[0m \u001b[32m━━━━━━━━━━━━━━━━━━━━\u001b[0m\u001b[37m\u001b[0m \u001b[1m0s\u001b[0m 15ms/step\n",
            "Predictions: [[2513.5073]\n",
            " [2513.5073]\n",
            " [2513.5073]\n",
            " [2513.5073]\n",
            " [2513.5073]]\n"
          ]
        }
      ],
      "source": [
        "import numpy as np\n",
        "from tensorflow.keras.models import Sequential\n",
        "from tensorflow.keras.layers import LSTM, Dense\n",
        "\n",
        "# Select only numeric columns from train_data and test_data\n",
        "numeric_columns = train_data.select_dtypes(include=[np.number])\n",
        "train_data_cleaned = numeric_columns.dropna()  # Drop rows with NaN values\n",
        "\n",
        "numeric_columns_test = test_data.select_dtypes(include=[np.number])\n",
        "test_data_cleaned = numeric_columns_test.dropna()  # Drop rows with NaN values\n",
        "\n",
        "# Reshape data for LSTM (samples, timesteps, features)\n",
        "train_data_reshaped = np.expand_dims(train_data_cleaned.values, axis=-1)\n",
        "test_data_reshaped = np.expand_dims(test_data_cleaned.values, axis=-1)\n",
        "\n",
        "# Define LSTM model\n",
        "def create_lstm_model():\n",
        "    model = Sequential()\n",
        "    model.add(LSTM(128, input_shape=(train_data_reshaped.shape[1], 1)))\n",
        "    model.add(Dense(1))\n",
        "    model.compile(loss='mean_squared_error', optimizer='adam')\n",
        "    return model\n",
        "\n",
        "# Create and train the LSTM model\n",
        "lstm_model = create_lstm_model()\n",
        "lstm_history = lstm_model.fit(\n",
        "    train_data_reshaped,\n",
        "    train_data_reshaped,\n",
        "    epochs=10,\n",
        "    batch_size=1,\n",
        "    verbose=1\n",
        ")\n",
        "\n",
        "# Make predictions\n",
        "lstm_predictions = lstm_model.predict(test_data_reshaped)\n",
        "\n",
        "# Print predictions\n",
        "print(\"Predictions:\", lstm_predictions[:5])\n"
      ]
    },
    {
      "cell_type": "code",
      "execution_count": 25,
      "metadata": {
        "colab": {
          "base_uri": "https://localhost:8080/"
        },
        "id": "jVbQYXeOTst4",
        "outputId": "937fe90b-b60f-4733-f6d4-ee220518e462"
      },
      "outputs": [
        {
          "name": "stdout",
          "output_type": "stream",
          "text": [
            "ARIMA RMSE: 51273.22965254404\n",
            "SARIMA RMSE: 58656.68106006239\n",
            "LSTM RMSE: 53100.90631379115\n",
            "Gradient Boosting Regressor RMSE: 49273.26992386117\n",
            "Prophet RMSE: 45578.60204348734\n"
          ]
        }
      ],
      "source": [
        "# Calculate RMSE for each model\n",
        "arima_rmse = np.sqrt(mean_squared_error(test_data['close'], arima_predictions))\n",
        "sarima_rmse = np.sqrt(mean_squared_error(test_data['close'], sarima_predictions))\n",
        "lstm_rmse = np.sqrt(mean_squared_error(test_data['close'], lstm_predictions))\n",
        "gbr_rmse = np.sqrt(mean_squared_error(test_data['close'], gbr_predictions))\n",
        "prophet_rmse = np.sqrt(mean_squared_error(test_data['close'], prophet_predictions['yhat']))  # Use 'yhat'\n",
        "\n",
        "# Print the RMSE values\n",
        "print(f\"ARIMA RMSE: {arima_rmse}\")\n",
        "print(f\"SARIMA RMSE: {sarima_rmse}\")\n",
        "print(f\"LSTM RMSE: {lstm_rmse}\")\n",
        "print(f\"Gradient Boosting Regressor RMSE: {gbr_rmse}\")\n",
        "print(f\"Prophet RMSE: {prophet_rmse}\")\n"
      ]
    },
    {
      "cell_type": "code",
      "execution_count": 26,
      "metadata": {
        "colab": {
          "base_uri": "https://localhost:8080/"
        },
        "id": "4E7Bp_7bfvQA",
        "outputId": "017595f8-6b4e-49c8-fc67-7e82de645e33"
      },
      "outputs": [
        {
          "name": "stdout",
          "output_type": "stream",
          "text": [
            "Best Model: Prophet with RMSE: 45578.60204348734\n"
          ]
        }
      ],
      "source": [
        "# Store RMSE in a dictionary\n",
        "rmse_dict = {\n",
        "    \"ARIMA\": arima_rmse,\n",
        "    \"SARIMA\": sarima_rmse,\n",
        "    \"LSTM\": lstm_rmse,\n",
        "    \"Gradient Boosting Regressor\": gbr_rmse,\n",
        "    \"Prophet\": prophet_rmse,\n",
        "}\n",
        "\n",
        "# Find the model with the lowest RMSE\n",
        "best_model_name = min(rmse_dict, key=rmse_dict.get)\n",
        "print(f\"Best Model: {best_model_name} with RMSE: {rmse_dict[best_model_name]}\")"
      ]
    },
    {
      "cell_type": "markdown",
      "metadata": {
        "id": "EEWG6meChRVP"
      },
      "source": [
        "For some reason even though Prophet is giving best RMSE , the its way off from current market so we will use ARIMA\n"
      ]
    },
    {
      "cell_type": "code",
      "execution_count": 27,
      "metadata": {
        "colab": {
          "base_uri": "https://localhost:8080/"
        },
        "id": "CpYgC0Mjfwhx",
        "outputId": "cede3f81-391d-4a4f-a1ec-d4bb5997f16c"
      },
      "outputs": [
        {
          "name": "stdout",
          "output_type": "stream",
          "text": [
            "\n",
            "Predicted Close Price for Next Day: 16518.73890459367\n",
            "Current Live Close Price (BTC-USD): 100311.885\n",
            "\n",
            "Market Trend: The price is decreasing.\n",
            "Sell Signal - Price expected to decrease significantly.\n"
          ]
        }
      ],
      "source": [
        "# Fetch live close price from Coinbase\n",
        "import requests\n",
        "\n",
        "def fetch_live_close_coinbase():\n",
        "    url = \"https://api.coinbase.com/v2/prices/BTC-USD/spot\"\n",
        "    response = requests.get(url)\n",
        "\n",
        "    if response.status_code == 200:\n",
        "        live_data = response.json()\n",
        "        return float(live_data['data']['amount'])  # Extract current close price\n",
        "    else:\n",
        "        raise Exception(f\"Error fetching live data: {response.status_code}\")\n",
        "\n",
        "# Predict the next day's closing price based on the best model\n",
        "try:\n",
        "    if best_model_name == \"ARIMA\":\n",
        "        next_day_prediction = arima_model_fit.predict(start=len(train_data), end=len(train_data))\n",
        "    elif best_model_name == \"SARIMA\":\n",
        "        next_day_prediction = sarima_model_fit.predict(start=len(train_data), end=len(train_data))\n",
        "    elif best_model_name == \"LSTM\":\n",
        "        next_day_prediction = lstm_model.predict(np.expand_dims(test_data[-1:], axis=-1))  # Example logic\n",
        "        next_day_prediction = next_day_prediction.flatten()  # Flatten the prediction\n",
        "    elif best_model_name == \"Gradient Boosting Regressor\":\n",
        "        next_day_prediction = gbr_model.predict(test_data[-1:].values.reshape(1, -1))  # Example logic\n",
        "    elif best_model_name == \"Prophet\":\n",
        "        future = prophet_model.make_future_dataframe(periods=1)\n",
        "        forecast = prophet_model.predict(future)\n",
        "        next_day_prediction = forecast['yhat'].iloc[-1]\n",
        "    else:\n",
        "        raise Exception(\"Unknown model selected!\")\n",
        "\n",
        "    predicted_close = next_day_prediction[0] if isinstance(next_day_prediction, np.ndarray) else next_day_prediction\n",
        "\n",
        "    # Fetch live close price\n",
        "    current_close = fetch_live_close_coinbase()\n",
        "\n",
        "    # Enhance clarity in trend comparison\n",
        "    print(f\"\\nPredicted Close Price for Next Day: {predicted_close}\")\n",
        "    print(f\"Current Live Close Price (BTC-USD): {current_close}\\n\")\n",
        "\n",
        "    # Generate Buy/Sell/Hold signal\n",
        "    threshold = 0.02  # 2% threshold for significant change\n",
        "    trend_direction = \"increasing\" if predicted_close > current_close else \"decreasing\"\n",
        "\n",
        "    if predicted_close > current_close * (1 + threshold):\n",
        "        signal = \"Buy Signal - Price expected to increase significantly.\"\n",
        "    elif predicted_close < current_close * (1 - threshold):\n",
        "        signal = \"Sell Signal - Price expected to decrease significantly.\"\n",
        "    else:\n",
        "        signal = \"Hold Signal - Price expected to remain stable.\"\n",
        "\n",
        "    # Print the outcome\n",
        "    print(f\"Market Trend: The price is {trend_direction}.\")\n",
        "    print(signal)\n",
        "\n",
        "except Exception as e:\n",
        "    print(f\"Error: {str(e)}\")"
      ]
    },
    {
      "cell_type": "code",
      "execution_count": 33,
      "metadata": {
        "colab": {
          "base_uri": "https://localhost:8080/"
        },
        "id": "h1otpPcrfEPE",
        "outputId": "84051458-d24c-4d5f-8907-1a92d87b2430"
      },
      "outputs": [
        {
          "name": "stderr",
          "output_type": "stream",
          "text": [
            "/usr/local/lib/python3.10/dist-packages/statsmodels/tsa/base/tsa_model.py:837: ValueWarning: No supported index is available. Prediction results will be given with an integer index beginning at `start`.\n",
            "  return get_prediction_index(\n",
            "/usr/local/lib/python3.10/dist-packages/statsmodels/tsa/base/tsa_model.py:837: FutureWarning: No supported index is available. In the next version, calling this method in a model without a supported index will result in an exception.\n",
            "  return get_prediction_index(\n"
          ]
        },
        {
          "name": "stdout",
          "output_type": "stream",
          "text": [
            "\n",
            "ARIMA_Predicted Close Price for Next Day: 100220.7012294504\n",
            "Current Live Close Price (BTC-USD): 100294.075\n",
            "\n",
            "Market Trend: The price is decreasing.\n",
            "Hold Signal - Price expected to remain stable.\n"
          ]
        }
      ],
      "source": [
        "# Fetch live close price from Coinbase\n",
        "import requests\n",
        "\n",
        "def fetch_live_close_coinbase():\n",
        "    url = \"https://api.coinbase.com/v2/prices/BTC-USD/spot\"\n",
        "    response = requests.get(url)\n",
        "\n",
        "    if response.status_code == 200:\n",
        "        live_data = response.json()\n",
        "        return float(live_data['data']['amount'])  # Extract current close price\n",
        "    else:\n",
        "        raise Exception(f\"Error fetching live data: {response.status_code}\")\n",
        "\n",
        "# Predict the next day's closing price using ARIMA\n",
        "next_day_prediction = arima_model_fit.predict(start=len(train_data), end=len(train_data))\n",
        "\n",
        "try:\n",
        "    # Fetch live close price\n",
        "    current_close = fetch_live_close_coinbase()  # Fetch real-time current Close price\n",
        "    predicted_close = next_day_prediction.iloc[0]  # ARIMA-predicted Close price\n",
        "\n",
        "    # Enhance clarity in trend comparison\n",
        "    print(f\"\\nARIMA_Predicted Close Price for Next Day: {predicted_close}\")\n",
        "    print(f\"Current Live Close Price (BTC-USD): {current_close}\\n\")\n",
        "\n",
        "    # Generate Buy/Sell/Hold signal\n",
        "    threshold = 0.02  # 2% threshold for significant change\n",
        "    trend_direction = \"increasing\" if predicted_close > current_close else \"decreasing\"\n",
        "\n",
        "    if predicted_close > current_close * (1 + threshold):\n",
        "        signal = \"Buy Signal - Price expected to increase significantly.\"\n",
        "    elif predicted_close < current_close * (1 - threshold):\n",
        "        signal = \"Sell Signal - Price expected to decrease significantly.\"\n",
        "    else:\n",
        "        signal = \"Hold Signal - Price expected to remain stable.\"\n",
        "\n",
        "    # Print the outcome\n",
        "    print(f\"Market Trend: The price is {trend_direction}.\")\n",
        "    print(signal)\n",
        "except Exception as e:\n",
        "    print(f\"Error: {str(e)}\")\n"
      ]
    },
    {
      "cell_type": "code",
      "execution_count": 29,
      "metadata": {
        "colab": {
          "base_uri": "https://localhost:8080/"
        },
        "id": "hodb5bHuUFoc",
        "outputId": "0ddcb222-3bf0-4e94-c160-7b77f34013d2"
      },
      "outputs": [
        {
          "name": "stdout",
          "output_type": "stream",
          "text": [
            "Mounted at /content/drive\n"
          ]
        }
      ],
      "source": [
        "from google.colab import drive\n",
        "drive.mount('/content/drive')"
      ]
    },
    {
      "cell_type": "code",
      "execution_count": 30,
      "metadata": {
        "id": "iXiO3gh3Wgjv"
      },
      "outputs": [],
      "source": [
        "# import pickle\n",
        "\n",
        "# # Save the ARIMA model\n",
        "# model_path = '/content/drive/My Drive/arima_model.pkl'  # Google Drive path\n",
        "# with open(model_path, 'wb') as file:\n",
        "#     pickle.dump(arima_model_fit, file)\n",
        "\n",
        "# print(f\"Model saved at: {model_path}\")\n"
      ]
    },
    {
      "cell_type": "code",
      "execution_count": 31,
      "metadata": {
        "id": "qjqDYI5TXYbP"
      },
      "outputs": [],
      "source": [
        "# from google.colab import files\n",
        "# #Load the model\n",
        "# files.download('/content/drive/My Drive/sarima_model.pkl')  # Downloads locally\n"
      ]
    },
    {
      "cell_type": "code",
      "execution_count": 31,
      "metadata": {
        "id": "tQSS0gjAeb3G"
      },
      "outputs": [],
      "source": []
    }
  ],
  "metadata": {
    "colab": {
      "provenance": []
    },
    "kernelspec": {
      "display_name": "Python 3",
      "name": "python3"
    },
    "language_info": {
      "codemirror_mode": {
        "name": "ipython",
        "version": 3
      },
      "file_extension": ".py",
      "mimetype": "text/x-python",
      "name": "python",
      "nbconvert_exporter": "python",
      "pygments_lexer": "ipython3",
      "version": "3.12.4"
    }
  },
  "nbformat": 4,
  "nbformat_minor": 0
}
